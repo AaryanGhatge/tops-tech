{
  "cells": [
    {
      "cell_type": "code",
      "execution_count": 1,
      "metadata": {
        "id": "cTP5s1ix4guP"
      },
      "outputs": [],
      "source": [
        "import numpy as np"
      ]
    },
    {
      "cell_type": "code",
      "execution_count": 2,
      "metadata": {
        "colab": {
          "base_uri": "https://localhost:8080/"
        },
        "id": "INZpb_JS4ozF",
        "outputId": "7ed1cab6-f5c4-4b83-dfce-a36d15120ee8"
      },
      "outputs": [
        {
          "name": "stdout",
          "output_type": "stream",
          "text": [
            "[[[ 1  2  3  4]\n",
            "  [ 5  6  7  8]\n",
            "  [ 9 10 11 12]]\n",
            "\n",
            " [[13 14 15 16]\n",
            "  [17 18 19 20]\n",
            "  [21 22 23 24]]]\n"
          ]
        }
      ],
      "source": [
        "# reate a 3D NumPy array of shape (2,3,4) filled with integers from 1 to 24, and reshape it without using loops\n",
        "\n",
        "arr=np.arange(1,25).reshape(2,3,4)\n",
        "print(arr)"
      ]
    },
    {
      "cell_type": "code",
      "execution_count": null,
      "metadata": {
        "colab": {
          "base_uri": "https://localhost:8080/"
        },
        "id": "zI2n38iJ624a",
        "outputId": "b598b94c-38b4-420b-f772-e8ab4e4cd160"
      },
      "outputs": [
        {
          "name": "stdout",
          "output_type": "stream",
          "text": [
            "Generated 5x5 array:\n",
            "[[40 31 33 41 10]\n",
            " [30 36 42 37 42]\n",
            " [25 48 19 18 41]\n",
            " [32 32 45 39 22]\n",
            " [38 34 18 12 10]]\n"
          ]
        }
      ],
      "source": [
        "# Generate a 5×5 array with random integers between 10 and 50, then extract all even numbers using boolean masking.\n",
        "\n",
        "\n",
        "import numpy as np\n",
        "\n",
        "random_array = np.random.randint(10, 51, size=(5, 5))\n",
        "print(\"Generated 5x5 array:\")\n",
        "print(random_array)"
      ]
    },
    {
      "cell_type": "code",
      "execution_count": null,
      "metadata": {
        "colab": {
          "base_uri": "https://localhost:8080/"
        },
        "id": "8EWU2GbPGSev",
        "outputId": "648a1003-bc59-43e9-9c2a-d10ebb984873"
      },
      "outputs": [
        {
          "name": "stdout",
          "output_type": "stream",
          "text": [
            "[[11 22 33 44]\n",
            " [15 26 37 48]\n",
            " [19 30 41 52]]\n"
          ]
        }
      ],
      "source": [
        "# Create two arrays a = np.arange(1,13).reshape(3,4) and b = np.array([10,20,30,40]). Use broadcasting to add b to every row of a.\n",
        "\n",
        "a=np.arange(1,13).reshape(3,4)\n",
        "b=np.array([10,20,30,40])\n",
        "print(a+b)\n"
      ]
    },
    {
      "cell_type": "code",
      "execution_count": null,
      "metadata": {
        "colab": {
          "base_uri": "https://localhost:8080/"
        },
        "id": "82He-SQ8HyNE",
        "outputId": "82c45657-3e34-4441-e969-580be71e2b00"
      },
      "outputs": [
        {
          "name": "stdout",
          "output_type": "stream",
          "text": [
            "[[1. 0. 0. 0. 0. 7.]\n",
            " [0. 1. 0. 0. 7. 0.]\n",
            " [0. 0. 1. 7. 0. 0.]\n",
            " [0. 0. 7. 1. 0. 0.]\n",
            " [0. 7. 0. 0. 1. 0.]\n",
            " [7. 0. 0. 0. 0. 1.]]\n"
          ]
        }
      ],
      "source": [
        "#  Construct a 6×6 identity matrix and replace its secondary diagonal (from top-right to bottom-left) with all 7’s.\n",
        "\n",
        "Identity_matrix = np.identity(6)\n",
        "# print(Identity_matrix)\n",
        "Identity_matrix[np.arange(6), np.arange(5, -1, -1)] = 7\n",
        "print(Identity_matrix)"
      ]
    },
    {
      "cell_type": "code",
      "execution_count": null,
      "metadata": {
        "colab": {
          "base_uri": "https://localhost:8080/"
        },
        "id": "WdJh8tg2LUYU",
        "outputId": "1c58c6d6-6a5d-4e31-d809-eac5b18fcbe9"
      },
      "outputs": [
        {
          "name": "stdout",
          "output_type": "stream",
          "text": [
            "[[-5.         -4.47368421 -3.94736842 -3.42105263 -2.89473684]\n",
            " [-2.36842105 -1.84210526 -1.31578947 -0.78947368 -0.26315789]\n",
            " [ 0.26315789  0.78947368  1.31578947  1.84210526  2.36842105]\n",
            " [ 2.89473684  3.42105263  3.94736842  4.47368421  5.        ]]\n",
            "[0.26315789 0.78947368 1.31578947 1.84210526 2.36842105 2.89473684\n",
            " 3.42105263 3.94736842 4.47368421 5.        ]\n"
          ]
        }
      ],
      "source": [
        "# Generate 20 linearly spaced numbers between -5 and 5. Reshape into a (4,5) array and extract only the elements greater than 0.\n",
        "\n",
        "linspace_array = np.linspace(-5, 5, 20).reshape(4, 5)\n",
        "print(linspace_array)\n",
        "\n",
        "elements_greater_than_0 = linspace_array[linspace_array > 0]\n",
        "print(elements_greater_than_0)"
      ]
    },
    {
      "cell_type": "code",
      "execution_count": null,
      "metadata": {
        "colab": {
          "base_uri": "https://localhost:8080/"
        },
        "id": "XpxGcIzONwUz",
        "outputId": "d355eccf-7ccb-4e2a-82a6-7713786bd6df"
      },
      "outputs": [
        {
          "name": "stdout",
          "output_type": "stream",
          "text": [
            "[[ 1  2  3  4]\n",
            " [ 5  6  7  8]\n",
            " [ 9 10 11 12]\n",
            " [13 14 15 16]]\n",
            "[[13 14 15 16]\n",
            " [ 5  6  7  8]\n",
            " [ 9 10 11 12]\n",
            " [ 1  2  3  4]]\n"
          ]
        }
      ],
      "source": [
        "# Create a 4x4 array with numbers from 1 to 16. Swap the first and last rows using slicing.\n",
        "\n",
        "arr = np.arange(1, 17).reshape(4, 4)\n",
        "print(arr)\n",
        "\n",
        "arr[[0, 3], :] = arr[[3, 0], :]\n",
        "print(arr)"
      ]
    },
    {
      "cell_type": "code",
      "execution_count": null,
      "metadata": {
        "colab": {
          "base_uri": "https://localhost:8080/"
        },
        "id": "lOIwzGIgOoKv",
        "outputId": "59dcbcd5-c3e3-4a87-dcc3-5854489711f4"
      },
      "outputs": [
        {
          "name": "stdout",
          "output_type": "stream",
          "text": [
            "[[0.77339953 0.9121255  0.15321851 0.89830865 0.84397659 0.80655092\n",
            "  0.53500806 0.61654257 0.08838468 0.73635496]\n",
            " [0.1528321  0.7892189  0.42258874 0.06546421 0.69037775 0.04739638\n",
            "  0.89754829 0.86403495 0.52057629 0.60344535]\n",
            " [0.99583483 0.69073906 0.60231031 0.67426927 0.34505797 0.94652922\n",
            "  0.84349029 0.07557688 0.70071274 0.58301215]\n",
            " [0.97646383 0.36381394 0.53681222 0.99132117 0.91983315 0.04386106\n",
            "  0.98025311 0.71169224 0.36952264 0.14989875]\n",
            " [0.30938101 0.93167801 0.33951817 0.68460548 0.96068223 0.05129622\n",
            "  0.45127221 0.39905207 0.75704591 0.65116084]\n",
            " [0.44160084 0.91163912 0.89377663 0.69026944 0.78376203 0.39925445\n",
            "  0.75414635 0.49372698 0.65910868 0.24411297]\n",
            " [0.29437097 0.48133765 0.63144986 0.0125605  0.00324359 0.90645351\n",
            "  0.59199142 0.62224779 0.04665872 0.94045973]\n",
            " [0.10657773 0.29352782 0.66998055 0.6861672  0.48780625 0.85750493\n",
            "  0.00509013 0.58541471 0.24500738 0.0595435 ]\n",
            " [0.40143767 0.13621074 0.68408066 0.99945122 0.32551092 0.49900364\n",
            "  0.13783664 0.67940234 0.53057496 0.18033974]\n",
            " [0.2932132  0.12487486 0.74259323 0.13699057 0.81432459 0.17155394\n",
            "  0.29281625 0.34012053 0.75894147 0.98009702]]\n",
            "2\n"
          ]
        }
      ],
      "source": [
        "# Create a 10×10 array with random floats between 0 and 1, then find the row with the maximum sum.\n",
        "\n",
        "arr = np.random.rand(10, 10)\n",
        "print(arr)\n",
        "\n",
        "row_with_max_sum = np.argmax(np.sum(arr, axis=1))\n",
        "print(row_with_max_sum)"
      ]
    },
    {
      "cell_type": "code",
      "execution_count": null,
      "metadata": {
        "colab": {
          "base_uri": "https://localhost:8080/"
        },
        "id": "Ovg34oCvO3gK",
        "outputId": "df100f5b-1908-4912-8beb-ce43979c864e"
      },
      "outputs": [
        {
          "name": "stdout",
          "output_type": "stream",
          "text": [
            "[[ 1  2  3  4  5]\n",
            " [ 6  7  8  9 10]\n",
            " [11 12 13 14 15]\n",
            " [16 17 18 19 20]\n",
            " [21 22 23 24 25]]\n",
            "[ 2  4  6  8 10 12 14 16 18 20 22 24]\n"
          ]
        }
      ],
      "source": [
        "# Given arr = np.arange(1,26).reshape(5,5), extract the submatrix of even numbers only, keeping their 2D structure.\n",
        "\n",
        "arr = np.arange(1, 26).reshape(5, 5)\n",
        "print(arr)\n",
        "\n",
        "even_submatrix = arr[arr % 2 == 0]\n",
        "print(even_submatrix)\n"
      ]
    },
    {
      "cell_type": "code",
      "execution_count": null,
      "metadata": {
        "colab": {
          "base_uri": "https://localhost:8080/"
        },
        "id": "S-vrv6BTPWfX",
        "outputId": "a0764ce4-0d4a-41c9-8192-c557af0d469e"
      },
      "outputs": [
        {
          "name": "stdout",
          "output_type": "stream",
          "text": [
            "[[10 20 30]\n",
            " [20 40 60]\n",
            " [30 60 90]]\n"
          ]
        }
      ],
      "source": [
        "# Generate two arrays a = np.array([1,2,3]) and b = np.array([[10],[20],[30]]). Perform multiplication using broadcasting and explain the result.\n",
        "\n",
        "a = np.array([1,2,3])\n",
        "b = np.array([[10],[20],[30]])\n",
        "print(a*b)"
      ]
    },
    {
      "cell_type": "code",
      "execution_count": null,
      "metadata": {
        "id": "nDAj9RaEQdkh"
      },
      "outputs": [],
      "source": [
        "# Create a diagonal matrix with values [5,10,15,20]. Then convert it into a full 4×4 matrix where diagonal values remain but others are filled with -1.\n",
        "\n",
        "\n",
        "diagonal_values = [5, 10, 15, 20]\n",
        "diag_matrix = np.diag(diagonal_values)\n",
        "print(diag_matrix)\n",
        "\n",
        "full_matrix = np.full((4, 4), -1)\n",
        "np.fill_diagonal(full_matrix, diagonal_values)\n",
        "print(full_matrix)"
      ]
    },
    {
      "cell_type": "code",
      "execution_count": null,
      "metadata": {
        "colab": {
          "base_uri": "https://localhost:8080/"
        },
        "id": "-BjdOEP9SHmO",
        "outputId": "1d66c9ce-6642-42fc-dd2c-5277fd88f391"
      },
      "outputs": [
        {
          "name": "stdout",
          "output_type": "stream",
          "text": [
            "[[ 3  0  0  0  0]\n",
            " [ 0  6  0  0  0]\n",
            " [ 0  0  9  0  0]\n",
            " [ 0  0  0 12  0]\n",
            " [ 0  0  0  0 15]]\n"
          ]
        }
      ],
      "source": [
        "# using np.eye(5), create a 5×5 matrix with diagonal values equal to multiples of 3.\n",
        "\n",
        "diagonal_values = np.arange(1, 6) * 3\n",
        "matrix = np.diag(diagonal_values)\n",
        "print(matrix)"
      ]
    },
    {
      "cell_type": "code",
      "execution_count": null,
      "metadata": {
        "colab": {
          "base_uri": "https://localhost:8080/"
        },
        "collapsed": true,
        "id": "QgrhNPszTAgY",
        "outputId": "32cf1542-0e18-49d5-b84c-44a56335fe47"
      },
      "outputs": [
        {
          "name": "stdout",
          "output_type": "stream",
          "text": [
            "[[[ 1  2]\n",
            "  [ 3  4]\n",
            "  [ 5  6]\n",
            "  [ 7  8]]\n",
            "\n",
            " [[ 9 10]\n",
            "  [11 12]\n",
            "  [13 14]\n",
            "  [15 16]]\n",
            "\n",
            " [[17 18]\n",
            "  [19 20]\n",
            "  [21 22]\n",
            "  [23 24]]]\n",
            "[ 1  2  3  4  5  6  7  8  9 10 11 12 13 14 15 16 17 18 19 20 21 22 23 24]\n",
            "[[[ 1  2  3  4]\n",
            "  [ 5  6  7  8]\n",
            "  [ 9 10 11 12]]\n",
            "\n",
            " [[13 14 15 16]\n",
            "  [17 18 19 20]\n",
            "  [21 22 23 24]]]\n"
          ]
        }
      ],
      "source": [
        "# Construct an array of shape (3,4,2) with values from 1 to 24. Flatten it using ravel(), and then reshape it into (2,3,4).\n",
        "arr = np.arange(1, 25).reshape(3, 4, 2)\n",
        "print(arr)\n",
        "\n",
        "flat = arr.ravel()\n",
        "print( flat)\n",
        "reshaped = flat.reshape(2, 3, 4)\n",
        "print( reshaped)\n"
      ]
    },
    {
      "cell_type": "code",
      "execution_count": null,
      "metadata": {
        "colab": {
          "base_uri": "https://localhost:8080/"
        },
        "collapsed": true,
        "id": "R3ED3n2LXPHq",
        "outputId": "4dfd2e06-2130-4de4-859d-a4e79c15c512"
      },
      "outputs": [
        {
          "name": "stdout",
          "output_type": "stream",
          "text": [
            "Original Matrix:\n",
            "[[47 95  1 30 92 45 21]\n",
            " [45 92  7 47 85 78  8]\n",
            " [ 1 38  3 33 92 23 40]\n",
            " [77 48 23 30 56 96 33]\n",
            " [52 80 51 64 85 91 22]\n",
            " [44 91 85  7 35 95 77]\n",
            " [79 20 81 33 34 38 49]]\n",
            "\n",
            "=============================================\n",
            "\n",
            "Modified Matrix (values divisible by 5 replaced with -5):\n",
            "[[47 -5  1 -5 92 -5 21]\n",
            " [-5 92  7 47 -5 78  8]\n",
            " [ 1 38  3 33 92 23 -5]\n",
            " [77 48 23 -5 56 96 33]\n",
            " [52 -5 51 64 -5 91 22]\n",
            " [44 91 -5  7 -5 -5 77]\n",
            " [79 -5 81 33 34 38 49]]\n"
          ]
        }
      ],
      "source": [
        "# Generate a 7×7 matrix of random integers (1–100). Replace all values divisible by 5 with -5 using boolean indexing.\n",
        "\n",
        "import numpy as np\n",
        "\n",
        "random_matrix = np.random.randint(1, 101, size=(7, 7))\n",
        "modified_matrix = random_matrix.copy()\n",
        "divisible_by_5_mask = random_matrix % 5 == 0\n",
        "modified_matrix[divisible_by_5_mask] = -5\n",
        "print(\"Original Matrix:\")\n",
        "print(random_matrix)\n",
        "print(\"\\n\" + \"=\"*45 + \"\\n\")\n",
        "print(\"Modified Matrix (values divisible by 5 replaced with -5):\")\n",
        "print(modified_matrix)"
      ]
    },
    {
      "cell_type": "code",
      "execution_count": 5,
      "metadata": {
        "colab": {
          "base_uri": "https://localhost:8080/"
        },
        "id": "CT5gk2_MY4Pj",
        "outputId": "92bf01e6-0084-4855-f5a8-1fc98903f3b0"
      },
      "outputs": [
        {
          "name": "stdout",
          "output_type": "stream",
          "text": [
            "Final Stacked Array (shape (10, 2)):\n",
            "[[ 0.00000000e+00  1.00000000e+00]\n",
            " [ 6.42787610e-01  7.66044443e-01]\n",
            " [ 9.84807753e-01  1.73648178e-01]\n",
            " [ 8.66025404e-01 -5.00000000e-01]\n",
            " [ 3.42020143e-01 -9.39692621e-01]\n",
            " [-3.42020143e-01 -9.39692621e-01]\n",
            " [-8.66025404e-01 -5.00000000e-01]\n",
            " [-9.84807753e-01  1.73648178e-01]\n",
            " [-6.42787610e-01  7.66044443e-01]\n",
            " [-2.44929360e-16  1.00000000e+00]]\n"
          ]
        }
      ],
      "source": [
        "#Given arr = np.linspace(0, 2*np.pi, 10), compute sine and cosine values for each element and stack them into a 2D array with shape (10,2).\n",
        "\n",
        "import numpy as np\n",
        "arr = np.linspace(0, 2*np.pi, 10)\n",
        "sine_values = np.sin(arr)\n",
        "cosine_values = np.cos(arr)\n",
        "stacked_array = np.column_stack((sine_values, cosine_values))\n",
        "print(\"Final Stacked Array (shape {}):\".format(stacked_array.shape))\n",
        "print(stacked_array)"
      ]
    },
    {
      "cell_type": "code",
      "execution_count": 4,
      "metadata": {
        "colab": {
          "base_uri": "https://localhost:8080/"
        },
        "id": "JZITLkSQZtgW",
        "outputId": "f4946065-9876-40a9-db4a-c51f1b6c0885"
      },
      "outputs": [
        {
          "name": "stdout",
          "output_type": "stream",
          "text": [
            "[[1. 0. 1. 0. 1.]\n",
            " [0. 1. 0. 1. 0.]\n",
            " [1. 0. 1. 0. 1.]\n",
            " [0. 1. 0. 1. 0.]\n",
            " [1. 0. 1. 0. 1.]]\n"
          ]
        }
      ],
      "source": [
        "# Create a 5×5 checkerboard pattern (alternating 0s and 1s) using slicing, without manually typing  each element.\n",
        "\n",
        "checkerboard = np.zeros((5, 5))\n",
        "checkerboard[::2, ::2] = 1\n",
        "checkerboard[1::2, 1::2] = 1\n",
        "print(checkerboard)"
      ]
    }
  ],
  "metadata": {
    "colab": {
      "provenance": []
    },
    "kernelspec": {
      "display_name": "Python 3",
      "name": "python3"
    },
    "language_info": {
      "codemirror_mode": {
        "name": "ipython",
        "version": 3
      },
      "file_extension": ".py",
      "mimetype": "text/x-python",
      "name": "python",
      "nbconvert_exporter": "python",
      "pygments_lexer": "ipython3",
      "version": "3.12.4"
    }
  },
  "nbformat": 4,
  "nbformat_minor": 0
}
